{
 "cells": [
  {
   "cell_type": "code",
   "execution_count": 1,
   "id": "b936efa3",
   "metadata": {},
   "outputs": [],
   "source": [
    "import pandas as pd\n",
    "from itertools import combinations\n",
    "from nltk.metrics.agreement import AnnotationTask"
   ]
  },
  {
   "cell_type": "code",
   "execution_count": 10,
   "id": "c53a65cb",
   "metadata": {},
   "outputs": [],
   "source": [
    "def alpha_df(df, good_only=False):\n",
    "    data = []\n",
    "    questions = range(1, 128)\n",
    "    if good_only: questions = list(set(questions)-set({i for i in questions if len(answers[i].dropna().unique()) > 3}))\n",
    "    for annotator in df.index:\n",
    "        for question in questions:\n",
    "            cell = df[question][annotator]\n",
    "            if cell is not None : data.append((annotator, question, cell))\n",
    "    try: return AnnotationTask(data=data).alpha()\n",
    "    except ZeroDivisionError: return 1"
   ]
  },
  {
   "cell_type": "code",
   "execution_count": 3,
   "id": "964fcd4c",
   "metadata": {},
   "outputs": [],
   "source": [
    "def get_trust_coefs(df, good_only=False):\n",
    "    alphas = dict()\n",
    "    for i in range(2, len(df.index)+1):\n",
    "        for combination in combinations(df.index, i):\n",
    "            alphas[combination] = alpha_df(df.loc[list(combination)], good_only)\n",
    "    coefs = dict()\n",
    "    coef = 1\n",
    "    sorted_keys = [key for key, val in sorted(alphas.items(), key = lambda ele: ele[1])]\n",
    "    for i, key in enumerate(sorted_keys):\n",
    "        if alphas[key] > alphas[sorted_keys[i-1]] : coef += 1\n",
    "        for annotator in key:\n",
    "            try: coefs[annotator] += coef\n",
    "            except KeyError: coefs[annotator] = coef\n",
    "    m = max([coef for coef in coefs.values()])\n",
    "    return {annotator : c/(coef+m) for annotator, c in coefs.items()}"
   ]
  },
  {
   "cell_type": "code",
   "execution_count": 19,
   "id": "020d96d5",
   "metadata": {},
   "outputs": [],
   "source": [
    "def ident_bad_annot(coefs, good_only=False):\n",
    "    for annotator, coef in coefs.items():\n",
    "        if coef <= 0.5: yield annotator"
   ]
  },
  {
   "cell_type": "code",
   "execution_count": 5,
   "id": "0d5adc41",
   "metadata": {},
   "outputs": [],
   "source": [
    "answers = pd.read_csv(\"answers.csv\", names = [\"date_time\", \"email\", \"ling\", \"coref\"]+list(range(1, 131))+[\"comments\"])\n",
    "answers.drop(0, axis=0, inplace=True)\n",
    "answers.drop(\"date_time\", axis=1, inplace=True)\n",
    "answers = answers.groupby(\"email\").last()"
   ]
  },
  {
   "cell_type": "code",
   "execution_count": 6,
   "id": "1c135a0d",
   "metadata": {},
   "outputs": [],
   "source": [
    "smaller = {\"2\" : \"1\", \"3\" : \"2\", \"4\" : \"2\", \"5\" : \"3\", \"6\" : \"3\", \"7\" : \"4\"}\n",
    "small = answers.applymap(lambda x : smaller[x] if x in smaller.keys() else x)"
   ]
  },
  {
   "cell_type": "code",
   "execution_count": 7,
   "id": "f583da5e",
   "metadata": {},
   "outputs": [
    {
     "name": "stdout",
     "output_type": "stream",
     "text": [
      "Alpha de Krippendorff sur toutes les exemples avec une échelle de 0 à 7 : 0.11707330361702328\n",
      "Alpha de Krippendorff sur toutes les exemples avec une échelle réduite de 0 à 4 : 0.18881285344193743\n",
      "Alpha de Krippendorff sur des 'bons' exemples seulement avec une échelle de 0 à 7 : 0.1967592592592593\n",
      "Alpha de Krippendorff sur des 'bons' exemples seulement avec une échelle réduite de 0 à 4 : 0.2990447495725904\n",
      "\n"
     ]
    }
   ],
   "source": [
    "print(f\"Alpha de Krippendorff sur toutes les exemples avec une échelle de 0 à 7 : {alpha_df(answers)}\\n\\\n",
    "Alpha de Krippendorff sur toutes les exemples avec une échelle réduite de 0 à 4 : {alpha_df(small)}\\n\\\n",
    "Alpha de Krippendorff sur des 'bons' exemples seulement avec une échelle de 0 à 7 : {alpha_df(answers, good_only=True)}\\n\\\n",
    "Alpha de Krippendorff sur des 'bons' exemples seulement avec une échelle réduite de 0 à 4 : {alpha_df(small, good_only=True)}\\n\")"
   ]
  },
  {
   "cell_type": "code",
   "execution_count": 20,
   "id": "927c9b0b",
   "metadata": {},
   "outputs": [
    {
     "name": "stdout",
     "output_type": "stream",
     "text": [
      "[]\n",
      "[]\n",
      "[]\n",
      "[]\n"
     ]
    }
   ],
   "source": [
    "trust_coefs = [get_trust_coefs(answers), get_trust_coefs(small), get_trust_coefs(answers, good_only=True), get_trust_coefs(small, good_only=True)]\n",
    "for coef in trust_coefs: print(list(ident_bad_annot(coef)))    "
   ]
  },
  {
   "cell_type": "code",
   "execution_count": 13,
   "id": "170c9ab8",
   "metadata": {},
   "outputs": [
    {
     "data": {
      "text/html": [
       "<div>\n",
       "<style scoped>\n",
       "    .dataframe tbody tr th:only-of-type {\n",
       "        vertical-align: middle;\n",
       "    }\n",
       "\n",
       "    .dataframe tbody tr th {\n",
       "        vertical-align: top;\n",
       "    }\n",
       "\n",
       "    .dataframe thead th {\n",
       "        text-align: right;\n",
       "    }\n",
       "</style>\n",
       "<table border=\"1\" class=\"dataframe\">\n",
       "  <thead>\n",
       "    <tr style=\"text-align: right;\">\n",
       "      <th></th>\n",
       "      <th>ling</th>\n",
       "      <th>coref</th>\n",
       "      <th>trust_coef1</th>\n",
       "      <th>trust_coef2</th>\n",
       "      <th>trust_coef3</th>\n",
       "      <th>trust_coef4</th>\n",
       "      <th>average</th>\n",
       "    </tr>\n",
       "    <tr>\n",
       "      <th>email</th>\n",
       "      <th></th>\n",
       "      <th></th>\n",
       "      <th></th>\n",
       "      <th></th>\n",
       "      <th></th>\n",
       "      <th></th>\n",
       "      <th></th>\n",
       "    </tr>\n",
       "  </thead>\n",
       "  <tbody>\n",
       "    <tr>\n",
       "      <th>sylvie.billot@univ-orleans.fr</th>\n",
       "      <td>non</td>\n",
       "      <td>oui</td>\n",
       "      <td>0.9968</td>\n",
       "      <td>0.996895</td>\n",
       "      <td>0.957998</td>\n",
       "      <td>0.914596</td>\n",
       "      <td>0.966572</td>\n",
       "    </tr>\n",
       "    <tr>\n",
       "      <th>loic.grobol@gmail.com</th>\n",
       "      <td>oui</td>\n",
       "      <td>oui</td>\n",
       "      <td>0.89906</td>\n",
       "      <td>0.85199</td>\n",
       "      <td>0.991583</td>\n",
       "      <td>0.996768</td>\n",
       "      <td>0.934850</td>\n",
       "    </tr>\n",
       "    <tr>\n",
       "      <th>ilaine.wang@inalco.fr</th>\n",
       "      <td>oui</td>\n",
       "      <td>non</td>\n",
       "      <td>0.967589</td>\n",
       "      <td>0.973415</td>\n",
       "      <td>0.93707</td>\n",
       "      <td>0.80933</td>\n",
       "      <td>0.921851</td>\n",
       "    </tr>\n",
       "    <tr>\n",
       "      <th>ygor.gallina@univ-nantes.fr</th>\n",
       "      <td>non</td>\n",
       "      <td>non</td>\n",
       "      <td>0.870167</td>\n",
       "      <td>0.835732</td>\n",
       "      <td>0.996591</td>\n",
       "      <td>0.95697</td>\n",
       "      <td>0.914865</td>\n",
       "    </tr>\n",
       "    <tr>\n",
       "      <th>fanny.krimou@hotmail.fr</th>\n",
       "      <td>oui</td>\n",
       "      <td>non</td>\n",
       "      <td>0.840049</td>\n",
       "      <td>0.795324</td>\n",
       "      <td>0.98011</td>\n",
       "      <td>0.942989</td>\n",
       "      <td>0.889618</td>\n",
       "    </tr>\n",
       "    <tr>\n",
       "      <th>emmanuel.schang@univ-orleans.fr</th>\n",
       "      <td>oui</td>\n",
       "      <td>oui</td>\n",
       "      <td>0.839957</td>\n",
       "      <td>0.759997</td>\n",
       "      <td>0.996591</td>\n",
       "      <td>0.95697</td>\n",
       "      <td>0.888379</td>\n",
       "    </tr>\n",
       "    <tr>\n",
       "      <th>Frederique.bordignon@enpc.fr</th>\n",
       "      <td>oui</td>\n",
       "      <td>non</td>\n",
       "      <td>0.786076</td>\n",
       "      <td>0.747536</td>\n",
       "      <td>0.937099</td>\n",
       "      <td>0.871181</td>\n",
       "      <td>0.835473</td>\n",
       "    </tr>\n",
       "    <tr>\n",
       "      <th>bergler@cse.concordia.ca</th>\n",
       "      <td>non</td>\n",
       "      <td>oui</td>\n",
       "      <td>0.723526</td>\n",
       "      <td>0.692038</td>\n",
       "      <td>0.941452</td>\n",
       "      <td>0.882177</td>\n",
       "      <td>0.809798</td>\n",
       "    </tr>\n",
       "    <tr>\n",
       "      <th>mariya</th>\n",
       "      <td>oui</td>\n",
       "      <td>oui</td>\n",
       "      <td>0.877624</td>\n",
       "      <td>0.977614</td>\n",
       "      <td>0.671122</td>\n",
       "      <td>0.632575</td>\n",
       "      <td>0.789734</td>\n",
       "    </tr>\n",
       "    <tr>\n",
       "      <th>anais.halftermeyer@univ-orleans.fr</th>\n",
       "      <td>oui</td>\n",
       "      <td>oui</td>\n",
       "      <td>0.632276</td>\n",
       "      <td>0.674202</td>\n",
       "      <td>0.724254</td>\n",
       "      <td>0.733764</td>\n",
       "      <td>0.691124</td>\n",
       "    </tr>\n",
       "  </tbody>\n",
       "</table>\n",
       "</div>"
      ],
      "text/plain": [
       "                                   ling coref trust_coef1 trust_coef2  \\\n",
       "email                                                                   \n",
       "sylvie.billot@univ-orleans.fr       non   oui      0.9968    0.996895   \n",
       "loic.grobol@gmail.com               oui   oui     0.89906     0.85199   \n",
       "ilaine.wang@inalco.fr               oui   non    0.967589    0.973415   \n",
       "ygor.gallina@univ-nantes.fr         non   non    0.870167    0.835732   \n",
       "fanny.krimou@hotmail.fr             oui   non    0.840049    0.795324   \n",
       "emmanuel.schang@univ-orleans.fr     oui   oui    0.839957    0.759997   \n",
       "Frederique.bordignon@enpc.fr        oui   non    0.786076    0.747536   \n",
       "bergler@cse.concordia.ca            non   oui    0.723526    0.692038   \n",
       "mariya                              oui   oui    0.877624    0.977614   \n",
       "anais.halftermeyer@univ-orleans.fr  oui   oui    0.632276    0.674202   \n",
       "\n",
       "                                   trust_coef3 trust_coef4   average  \n",
       "email                                                                 \n",
       "sylvie.billot@univ-orleans.fr         0.957998    0.914596  0.966572  \n",
       "loic.grobol@gmail.com                 0.991583    0.996768  0.934850  \n",
       "ilaine.wang@inalco.fr                  0.93707     0.80933  0.921851  \n",
       "ygor.gallina@univ-nantes.fr           0.996591     0.95697  0.914865  \n",
       "fanny.krimou@hotmail.fr                0.98011    0.942989  0.889618  \n",
       "emmanuel.schang@univ-orleans.fr       0.996591     0.95697  0.888379  \n",
       "Frederique.bordignon@enpc.fr          0.937099    0.871181  0.835473  \n",
       "bergler@cse.concordia.ca              0.941452    0.882177  0.809798  \n",
       "mariya                                0.671122    0.632575  0.789734  \n",
       "anais.halftermeyer@univ-orleans.fr    0.724254    0.733764  0.691124  "
      ]
     },
     "execution_count": 13,
     "metadata": {},
     "output_type": "execute_result"
    }
   ],
   "source": [
    "annotators_info = answers[[\"ling\", \"coref\"]]\n",
    "for i, trust_coef in enumerate(trust_coefs, 1):\n",
    "    annotators_info.loc[:,\"trust_coef\"+str(i)] = None\n",
    "    for annotator in trust_coef:\n",
    "        annotators_info.loc[annotator,\"trust_coef\"+str(i)] = trust_coef[annotator]\n",
    "annotators_info[\"average\"] = annotators_info[[\"trust_coef1\", \"trust_coef2\", \"trust_coef3\", \"trust_coef4\"]].mean(axis=1)\n",
    "annotators_info.sort_values(by=\"average\", ascending=False)"
   ]
  }
 ],
 "metadata": {
  "kernelspec": {
   "display_name": "Python 3",
   "language": "python",
   "name": "python3"
  },
  "language_info": {
   "codemirror_mode": {
    "name": "ipython",
    "version": 3
   },
   "file_extension": ".py",
   "mimetype": "text/x-python",
   "name": "python",
   "nbconvert_exporter": "python",
   "pygments_lexer": "ipython3",
   "version": "3.9.0"
  }
 },
 "nbformat": 4,
 "nbformat_minor": 5
}
