{
 "cells": [
  {
   "cell_type": "code",
   "execution_count": 274,
   "id": "5e7b6a70",
   "metadata": {},
   "outputs": [],
   "source": [
    "import pandas as pd\n",
    "from itertools import combinations\n",
    "from nltk.metrics.agreement import AnnotationTask"
   ]
  },
  {
   "cell_type": "code",
   "execution_count": 237,
   "id": "d51673a7",
   "metadata": {},
   "outputs": [],
   "source": [
    "def to_int(x):\n",
    "    try: return x.astype(int)\n",
    "    except (ValueError, TypeError, AttributeError): return x"
   ]
  },
  {
   "cell_type": "code",
   "execution_count": 238,
   "id": "f0eebb1a",
   "metadata": {},
   "outputs": [],
   "source": [
    "answers = pd.read_csv(\"answers.csv\", names = [\"date_time\", \"email\", \"ling\", \"coref\"]+list(range(1, 131))+[\"comments\"])\n",
    "answers.drop(0, axis=0, inplace=True)\n",
    "answers.drop(\"date_time\", axis=1, inplace=True)\n",
    "answers = answers.groupby(\"email\").last()\n",
    "answers = answers.apply(to_int)"
   ]
  },
  {
   "cell_type": "code",
   "execution_count": 240,
   "id": "6bf4ccba",
   "metadata": {},
   "outputs": [],
   "source": [
    "smaller = {2 : 1, 3 : 2, 4 : 2, 5 : 3, 6 : 3, 7 : 4}\n",
    "small = answers.applymap(lambda x : smaller[x] if x in smaller.keys() else x)"
   ]
  },
  {
   "cell_type": "code",
   "execution_count": 244,
   "id": "2c2dc584",
   "metadata": {},
   "outputs": [],
   "source": [
    "def alpha_df(df):\n",
    "    data = []\n",
    "    for annotator in df.index:\n",
    "        for i in range(1, 131):\n",
    "            cell = df[i][annotator]\n",
    "            if cell is not None : data.append((annotator, i, cell))\n",
    "    return AnnotationTask(data=data).alpha()"
   ]
  },
  {
   "cell_type": "code",
   "execution_count": 245,
   "id": "6b188624",
   "metadata": {},
   "outputs": [
    {
     "data": {
      "text/plain": [
       "0.16277009793305897"
      ]
     },
     "execution_count": 245,
     "metadata": {},
     "output_type": "execute_result"
    }
   ],
   "source": [
    "alpha_df(answers)"
   ]
  },
  {
   "cell_type": "code",
   "execution_count": 246,
   "id": "69599d2a",
   "metadata": {},
   "outputs": [
    {
     "data": {
      "text/plain": [
       "0.1778868482161705"
      ]
     },
     "execution_count": 246,
     "metadata": {},
     "output_type": "execute_result"
    }
   ],
   "source": [
    "alpha_df(small)"
   ]
  },
  {
   "cell_type": "code",
   "execution_count": 374,
   "id": "be64660d",
   "metadata": {},
   "outputs": [],
   "source": [
    "def trust_coefs(df):\n",
    "    alphas = dict()\n",
    "    for i in range(2, len(df.index)+1):\n",
    "        for combination in combinations(df.index, i):\n",
    "            alphas[combination] = alpha_df(df.loc[list(combination)])\n",
    "    coefs = dict()\n",
    "    coef = 1\n",
    "    sorted_keys = [key for key, val in sorted(alphas.items(), key = lambda ele: ele[1])]\n",
    "    for i, key in enumerate(sorted_keys):\n",
    "        if alphas[key] > alphas[sorted_keys[i-1]] : coef += 1\n",
    "        for annotator in key:\n",
    "            try: coefs[annotator] += coef\n",
    "            except KeyError: coefs[annotator] = coef\n",
    "    m = max([coef for coef in coefs.values()])\n",
    "    return {annotator : c/(coef+m) for annotator, c in coefs.items()}"
   ]
  },
  {
   "cell_type": "code",
   "execution_count": 372,
   "id": "90870846",
   "metadata": {},
   "outputs": [],
   "source": [
    "def ident_bad_annot(df):\n",
    "    for annotator, coef in trust_coefs(df).items():\n",
    "        if coef <= 0.5: yield (annotator, coef)"
   ]
  },
  {
   "cell_type": "code",
   "execution_count": 375,
   "id": "55d6c476",
   "metadata": {},
   "outputs": [
    {
     "data": {
      "text/plain": [
       "({}, {})"
      ]
     },
     "execution_count": 375,
     "metadata": {},
     "output_type": "execute_result"
    }
   ],
   "source": [
    "dict(ident_bad_annot(answers)), dict(ident_bad_annot(small))"
   ]
  },
  {
   "cell_type": "code",
   "execution_count": 376,
   "id": "e6f4076b",
   "metadata": {},
   "outputs": [
    {
     "data": {
      "text/plain": [
       "({'Frederique.bordignon@enpc.fr': 0.7868354960234407,\n",
       "  'bergler@cse.concordia.ca': 0.7291753871912934,\n",
       "  'anais.halftermeyer@univ-orleans.fr': 0.7192863122645459,\n",
       "  'loic.grobol@gmail.com': 0.9871808287986605,\n",
       "  'mariya': 0.830054416073671,\n",
       "  'ilaine.wang@inalco.fr': 0.9865529510255336,\n",
       "  'ygor.gallina@univ-nantes.fr': 0.8705525324403516,\n",
       "  'sylvie.billot@univ-orleans.fr': 0.9463687735454165},\n",
       " {'Frederique.bordignon@enpc.fr': 0.7883015553144216,\n",
       "  'bergler@cse.concordia.ca': 0.6835632718441585,\n",
       "  'anais.halftermeyer@univ-orleans.fr': 0.694879346871286,\n",
       "  'mariya': 0.7748669456931742,\n",
       "  'ilaine.wang@inalco.fr': 0.9849118999638299,\n",
       "  'loic.grobol@gmail.com': 0.987237120859815,\n",
       "  'ygor.gallina@univ-nantes.fr': 0.9263680049604712,\n",
       "  'sylvie.billot@univ-orleans.fr': 0.926471348111404})"
      ]
     },
     "execution_count": 376,
     "metadata": {},
     "output_type": "execute_result"
    }
   ],
   "source": [
    "trust_coefs(answers), trust_coefs(small)"
   ]
  }
 ],
 "metadata": {
  "kernelspec": {
   "display_name": "Python 3",
   "language": "python",
   "name": "python3"
  },
  "language_info": {
   "codemirror_mode": {
    "name": "ipython",
    "version": 3
   },
   "file_extension": ".py",
   "mimetype": "text/x-python",
   "name": "python",
   "nbconvert_exporter": "python",
   "pygments_lexer": "ipython3",
   "version": "3.9.0"
  }
 },
 "nbformat": 4,
 "nbformat_minor": 5
}
